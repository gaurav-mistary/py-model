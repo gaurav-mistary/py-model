{
 "cells": [
  {
   "cell_type": "markdown",
   "source": [
    "# Copies\n",
    "\n",
    "copies means more memory hogging and that will remain true. \n",
    "Hence, Mutate!\n",
    "\n",
    "# Pydantic `model_copy`\n",
    "```python\n",
    "def model_copy(self: Model, *, update: dict[str, Any] | None = None, deep: bool = False) -> Model\n",
    "``` \n",
    "\n",
    "- The update dictionary here is of help as it takes a `key = attr_name` and `value = value_to_be_replaced`\n",
    "- Notice it also has a `deep = False` param. We'll come to it later.\n",
    "\n",
    "If mutation helps in using less memory, why create a model_copy. Well it seems like `Pydantic` is **aware** of that\n",
    "and mirrors python reference counting under the hood.\n",
    "\n",
    "So it's something like this : \n"
   ],
   "metadata": {
    "collapsed": false
   },
   "id": "debf1eb6fee8bc37"
  },
  {
   "cell_type": "code",
   "execution_count": 6,
   "outputs": [],
   "source": [
    "\n",
    "from src.basemodels import ImmutableModel\n",
    "\n",
    "class A(ImmutableModel):\n",
    "    a: int\n",
    "    b: float\n",
    "    c: tuple[int, ...] # the ... means multiple\n",
    "\n",
    "a = A(a = 1, b = 2.2, c = (1,2,3))\n",
    "   "
   ],
   "metadata": {
    "collapsed": false,
    "ExecuteTime": {
     "end_time": "2023-09-02T14:19:45.329414Z",
     "start_time": "2023-09-02T14:19:45.318391Z"
    }
   },
   "id": "30e5a4c38144ccc1"
  },
  {
   "cell_type": "markdown",
   "source": [
    "\n",
    "Here `a` is Like this\n",
    "\n",
    "    1       2.2     (1,2,3)\n",
    "    a.a     a.b       a.c\n",
    "\n",
    "Now when I do,\n"
   ],
   "metadata": {
    "collapsed": false
   },
   "id": "af0283dc29122c86"
  },
  {
   "cell_type": "code",
   "execution_count": 7,
   "outputs": [
    {
     "name": "stdout",
     "output_type": "stream",
     "text": [
      "a=1 b=4.4 c=(1, 2, 3)\n"
     ]
    }
   ],
   "source": [
    "c = a.model_copy(update={'b': 4.4})\n",
    "print(c)"
   ],
   "metadata": {
    "collapsed": false,
    "ExecuteTime": {
     "end_time": "2023-09-02T14:19:45.340454Z",
     "start_time": "2023-09-02T14:19:45.321931Z"
    }
   },
   "id": "a8798d1232772ea3"
  },
  {
   "cell_type": "markdown",
   "source": [
    "\n",
    "Now `a` is becomes this\n",
    "\n",
    "    1       2.2     (1,2,3)\n",
    "    a.a     a.b       a.c\n",
    "    \n",
    "     |      4.4        |\n",
    "    c.a     c.b       c.c                   \n",
    "\n",
    "As you can see here \n",
    "- `a.b` still references `2.2` but the \n",
    "- `b.c` references `4.4`\n",
    "- `c.a and c.c` references `a.a and a.c` respectively\n",
    "\n",
    "This means there is no separate memory block being created for `c.a and c.c`, just a reference. Meanwhile, for `c.b` a new block is assigned with value `4.4`  and chained together with `c.a and c.c` to form `c`.\n"
   ],
   "metadata": {
    "collapsed": false
   },
   "id": "47799646ebd897df"
  },
  {
   "cell_type": "markdown",
   "source": [
    "### deep: boolean = False\n",
    "This is where the `deep` attribute comes into picture.\n",
    "If you set the `deep` = `True` during your model_copy, the `c` becomes : \n",
    "\n",
    "    1       2.2     (1,2,3)\n",
    "    a.a     a.b       a.c\n",
    "    \n",
    "     1      4.4      (1,2,3)\n",
    "    c.a     c.b       c.c                   \n",
    "\n",
    "So an entirely new blocks of `c.a and c.c` are created. This means even if `a` changes, `c` will remain intact. So it means a extra memory allocation to the same values. What I suggest is:\n",
    "- Use `deep = False` (default) when you know for sure that `a` is not going to change or even if it changes, you are only concerned with the attributes in `update` list. \n",
    "- Use `deep = True` when you are also concerned about the other attributes of `a` and want them to be in the same state as they are at the time of generating copy"
   ],
   "metadata": {
    "collapsed": false
   },
   "id": "cfa45ca8a932eb3c"
  },
  {
   "cell_type": "markdown",
   "source": [
    "## new : A step further\n",
    "\n",
    "```python\n",
    "def new(self, key: str, value: T, deep: bool = False) -> Self:\n",
    "```\n",
    "\n",
    "In the `Immutable` model class, we also have a `new` method that returns an instance of itself (Subclass-able). The reason this method was added was because, let's assume we have a class\n"
   ],
   "metadata": {
    "collapsed": false
   },
   "id": "f9fa66af6a89576f"
  },
  {
   "cell_type": "code",
   "execution_count": 8,
   "outputs": [
    {
     "name": "stdout",
     "output_type": "stream",
     "text": [
      "a=A(a=1, b=4.4, c=[1, 2, 3]) b=22.24 c='new start'\n"
     ]
    }
   ],
   "source": [
    "class A(ImmutableModel):\n",
    "    a: int\n",
    "    b: float\n",
    "    c: list[int]\n",
    "\n",
    "class B(ImmutableModel):\n",
    "    a: A\n",
    "    b: float\n",
    "    c: str \n",
    "    \n",
    "b = B(a = c.model_dump(), b=22.24, c = \"new start\")\n",
    "print(b)"
   ],
   "metadata": {
    "collapsed": false,
    "ExecuteTime": {
     "end_time": "2023-09-02T14:19:45.341972Z",
     "start_time": "2023-09-02T14:19:45.328035Z"
    }
   },
   "id": "c95ca5fa153215c5"
  },
  {
   "cell_type": "markdown",
   "source": [
    "Now if I want to create a model_copy but only change `b.a.b = 8.8` instead. Rest references should remain same. I cannot do that with `model_copy`. With `model_copy` I have to recreate `a` with updated `a.b` and assign that to the `model_copy` of b. Like follows\n"
   ],
   "metadata": {
    "collapsed": false
   },
   "id": "8fc7c208f202528f"
  },
  {
   "cell_type": "code",
   "execution_count": 9,
   "outputs": [
    {
     "name": "stdout",
     "output_type": "stream",
     "text": [
      "a=A(a=1, b=8.8, c=[1, 2, 3]) b=22.24 c='new start'\n"
     ]
    }
   ],
   "source": [
    "a = A(a=1, b = 8.8, c = [1,2,3])\n",
    "d = b.model_copy(update={'a': a})\n",
    "print(d)"
   ],
   "metadata": {
    "collapsed": false,
    "ExecuteTime": {
     "end_time": "2023-09-02T14:19:45.342141Z",
     "start_time": "2023-09-02T14:19:45.332260Z"
    }
   },
   "id": "2e3b261905199da1"
  },
  {
   "cell_type": "markdown",
   "source": [
    "This is much painful as it's creating a new object `a` with same other attributes which can instead be kept as references.\n",
    "Hence, what `new` does is that it takes \n",
    "- `key` = `a.b`. This is `model.attribute` which can be chained too like `model.model.model...model.attribute`\n",
    "- `value` = Value that is to be set to the attribute. Please make sure to **respect** the type\n",
    "\n",
    "Moreover, the `deep` propagation is preserved. Although in this case it applies to all the `model`s.\n",
    "The heart of the `new` method is `_copy` method that has the same blueprint.\n",
    "\n",
    "The reason it is kept separate is to have different `mixin` implementations for copying beyond `pydantic` models and to even enhance the within model copying like deep copying only from a specific level. "
   ],
   "metadata": {
    "collapsed": false
   },
   "id": "3d4cd77b8f241ee6"
  },
  {
   "cell_type": "code",
   "execution_count": 10,
   "outputs": [
    {
     "name": "stdout",
     "output_type": "stream",
     "text": [
      "d initially: a=A(a=1, b=8.8, c=[1, 2, 3]) b=22.24 c='new start'\n",
      "a=A(a=1, b=2.2, c=[1, 2, 3]) b=22.24 c='new start'\n",
      "d changed: a=A(a=1, b=8.8, c=[1, 2, 3, 100]) b=22.24 c='new start'\n",
      "e affected: a=A(a=1, b=2.2, c=[1, 2, 3, 100]) b=22.24 c='new start'\n",
      "DEEP:  TRUE =================\n",
      "f created: a=A(a=1, b='3.3', c=[1, 2, 3, 100]) b=22.24 c='new start'\n",
      "d changed: a=A(a=1, b=8.8, c=[1, 2, 3, 100, 100]) b=22.24 c='new start'\n",
      "f unchanged: a=A(a=1, b='3.3', c=[1, 2, 3, 100]) b=22.24 c='new start'\n"
     ]
    }
   ],
   "source": [
    "print(f\"d initially: {d}\")\n",
    "e = d.new(key=\"a.b\", value=2.2)\n",
    "print(e)\n",
    "d.a.c.append(100)\n",
    "print(f'd changed: {d}')\n",
    "print(f\"e affected: {e}\")\n",
    "\n",
    "print(\"DEEP:  TRUE =================\")\n",
    "# Deep propagation is preserved\n",
    "\n",
    "f = d.new(key=\"a.b\", value=\"3.3\", deep=True)\n",
    "print(f\"f created: {f}\")\n",
    "d.a.c.append(100)\n",
    "print(f\"d changed: {d}\")\n",
    "print(f\"f unchanged: {f}\")\n",
    "\n"
   ],
   "metadata": {
    "collapsed": false,
    "ExecuteTime": {
     "end_time": "2023-09-02T14:19:45.342720Z",
     "start_time": "2023-09-02T14:19:45.336834Z"
    }
   },
   "id": "3c94783a4611c366"
  },
  {
   "cell_type": "code",
   "execution_count": 10,
   "outputs": [],
   "source": [],
   "metadata": {
    "collapsed": false,
    "ExecuteTime": {
     "end_time": "2023-09-02T14:19:45.343093Z",
     "start_time": "2023-09-02T14:19:45.338923Z"
    }
   },
   "id": "b5fe9c95f732efff"
  }
 ],
 "metadata": {
  "kernelspec": {
   "display_name": "Python 3",
   "language": "python",
   "name": "python3"
  },
  "language_info": {
   "codemirror_mode": {
    "name": "ipython",
    "version": 2
   },
   "file_extension": ".py",
   "mimetype": "text/x-python",
   "name": "python",
   "nbconvert_exporter": "python",
   "pygments_lexer": "ipython2",
   "version": "2.7.6"
  }
 },
 "nbformat": 4,
 "nbformat_minor": 5
}
